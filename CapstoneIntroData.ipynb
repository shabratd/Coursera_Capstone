{
 "cells": [
  {
   "cell_type": "markdown",
   "metadata": {},
   "source": [
    "# Best place for fast food venue in Moscow."
   ]
  },
  {
   "cell_type": "markdown",
   "metadata": {},
   "source": [
    "## Introduction.\n",
    "In this research we will try to find an optimal lication for a fast food venue in Moscow, Russia.\n",
    "We will try to detect locations that are less crowded with restaurants and potentially have the largest amount of potential clients.\n",
    "We target stakeholders who are interested in starting fastfood buisness in Moscow. For those wi will show few most perspective neibourhoods and express the advantages of each of them, so that best possible final location can be chosen by stakeholders."
   ]
  },
  {
   "cell_type": "markdown",
   "metadata": {},
   "source": [
    "## Data.\n",
    "It is well known that neibourhoods near Moscow Subway (Metro) stations have the biggest traffic of potential clients of fastfood restraurants in the city. That's wy we will prepare dataset of all  Metro stations (more than 300 stations) and analise neibourhoods around them. Average distance between two stations is about 2 kilometers, so we will explore areas within 1 kilometer from stations. To prepare this data we will:\n",
    "1. scrap wikipedia page to get the list of stations;\n",
    "2. use geopy library to get their latitude and longitude.\n",
    "\n",
    "Next we will obtain dataset of all venues of catigories we are interested in and search for locations less crowded with fastfood restaurants. To prepare this data we will use Forsquare API."
   ]
  }
 ],
 "metadata": {
  "kernelspec": {
   "display_name": "Python 3",
   "language": "python",
   "name": "python3"
  },
  "language_info": {
   "codemirror_mode": {
    "name": "ipython",
    "version": 3
   },
   "file_extension": ".py",
   "mimetype": "text/x-python",
   "name": "python",
   "nbconvert_exporter": "python",
   "pygments_lexer": "ipython3",
   "version": "3.7.4"
  }
 },
 "nbformat": 4,
 "nbformat_minor": 2
}
